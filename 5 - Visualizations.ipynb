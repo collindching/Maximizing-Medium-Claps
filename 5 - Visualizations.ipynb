{
 "cells": [
  {
   "cell_type": "markdown",
   "metadata": {},
   "source": [
    "Some visualizations to provide insight into writing engaging Medium articles. Code to create images for all of my Medium article reside here. "
   ]
  },
  {
   "cell_type": "code",
   "execution_count": 64,
   "metadata": {},
   "outputs": [],
   "source": [
    "import pandas as pd\n",
    "import numpy as np\n",
    "import matplotlib.pyplot as plt\n",
    "import seaborn as sns\n",
    "\n",
    "from collections import Counter"
   ]
  },
  {
   "cell_type": "code",
   "execution_count": 6,
   "metadata": {},
   "outputs": [],
   "source": [
    "X_train = pd.read_csv('X_train.csv')\n",
    "y_train = pd.read_csv('y_train.csv')\n",
    "\n",
    "X_test = pd.read_csv('X_test.csv')\n",
    "y_test = pd.read_csv('y_test.csv')\n",
    "\n",
    "df = pd.concat([X_train, y_train], axis=1).append(pd.concat([X_test, y_test], axis=1))"
   ]
  },
  {
   "cell_type": "code",
   "execution_count": 8,
   "metadata": {
    "scrolled": true
   },
   "outputs": [
    {
     "data": {
      "text/plain": [
       "['title',\n",
       " 'subtitle',\n",
       " 'tags',\n",
       " 'author',\n",
       " 'h1_headers',\n",
       " 'h2_headers',\n",
       " 'paragraphs',\n",
       " 'blockquotes',\n",
       " 'bold_text',\n",
       " 'italic_text',\n",
       " 'n_bullet_lists',\n",
       " 'n_numbered_lists',\n",
       " 'n_gists',\n",
       " 'n_code_chunks',\n",
       " 'n_vids',\n",
       " 'n_links',\n",
       " 'publication',\n",
       " 'read_time',\n",
       " 'date',\n",
       " 'title_length',\n",
       " 'subtitle_length',\n",
       " 'n_tags',\n",
       " 'n_h1_headers',\n",
       " 'n_h2_headers',\n",
       " 'n_paragraphs',\n",
       " 'n_bold_text',\n",
       " 'n_italic_text',\n",
       " 'n_blockquotes',\n",
       " 'n_pics',\n",
       " 'article_length',\n",
       " 'mean_paragraph_length',\n",
       " 'year',\n",
       " 'month',\n",
       " 'day',\n",
       " 'day_of_week',\n",
       " 'season',\n",
       " 'winter',\n",
       " 'summer',\n",
       " 'spring',\n",
       " 'tag_Data_Science',\n",
       " 'tag_Machine_Learning',\n",
       " 'tag_Artificial_Intelligence',\n",
       " 'tag_Python',\n",
       " 'tag_Data',\n",
       " 'tag_Data_Analysis',\n",
       " 'tag_Data_Visualization',\n",
       " 'tag_Deep_Learning',\n",
       " 'tag_Big_Data',\n",
       " 'tag_AI',\n",
       " 'tag_Analytics',\n",
       " 'tag_Technology',\n",
       " 'tag_Statistics',\n",
       " 'tag_Programming',\n",
       " 'tag_R',\n",
       " 'tag_NLP',\n",
       " 'tag_Startup',\n",
       " 'tag_Towards_Data_Science',\n",
       " 'tag_Blockchain',\n",
       " 'tag_Tech',\n",
       " 'tag_Education',\n",
       " 'tag_Neural_Networks',\n",
       " 'tag_Marketing',\n",
       " 'tag_Business',\n",
       " 'tag_Science',\n",
       " 'tag_Business_Intelligence',\n",
       " 'tag_Software_Development',\n",
       " 'tag_Data_Analytics',\n",
       " 'tag_Data_Engineering',\n",
       " 'tag_Visualization',\n",
       " 'publication_None',\n",
       " 'publication_Towards_Data_Science',\n",
       " 'publication_Data_Driven_Investor',\n",
       " 'publication_HackerNoon_com',\n",
       " 'publication_Cambridge_Spark',\n",
       " 'publication_Analytics_Vidhya',\n",
       " 'publication_Budding_Data_Scientists',\n",
       " 'publication_Good_Audience',\n",
       " 'publication_Center_for_Data_Science',\n",
       " 'publication_learn_data_science',\n",
       " 'title_is_title_case',\n",
       " 'title_keyword_data',\n",
       " 'title_keyword_science',\n",
       " 'title_keyword_learning',\n",
       " 'title_keyword_how',\n",
       " 'title_keyword_machine',\n",
       " 'title_keyword_python',\n",
       " 'title_keyword_part',\n",
       " 'title_keyword_using',\n",
       " 'title_keyword_ai',\n",
       " 'title_keyword_analysis',\n",
       " 'title_keyword_analytics',\n",
       " 'title_keyword_2018',\n",
       " 'title_keyword_scientist',\n",
       " 'title_keyword_why',\n",
       " 'title_keyword_de',\n",
       " 'title_keyword_deep',\n",
       " 'title_keyword_big',\n",
       " 'title_keyword_regression',\n",
       " 'title_keyword_intelligence',\n",
       " 'title_keyword_introduction',\n",
       " 'title_keyword_new',\n",
       " 'title_keyword_business',\n",
       " 'title_keyword_artificial',\n",
       " 'title_keyword_model',\n",
       " 'title_keyword_week',\n",
       " 'title_keyword_neural',\n",
       " 'title_keyword_linear',\n",
       " 'title_keyword_building',\n",
       " 'title_keyword_vs',\n",
       " 'title_keyword_time',\n",
       " 'title_keyword_world',\n",
       " 'title_keyword_pandas',\n",
       " 'title_keyword_classification',\n",
       " 'title_keyword_guide',\n",
       " 'title_keyword_models',\n",
       " 'title_keyword_first',\n",
       " 'title_keyword_use',\n",
       " 'title_keyword_top',\n",
       " 'title_keyword_scientists',\n",
       " 'title_keyword_visualization',\n",
       " 'n_digits_article',\n",
       " 'n_digits_title',\n",
       " 'article_grade_lvl',\n",
       " 'title_grade_lvl',\n",
       " 'sentiment_title',\n",
       " 'std_paragraph_length',\n",
       " 'bold_text_length',\n",
       " 'italic_text_length',\n",
       " 'pics_per_paragraph',\n",
       " 'n_claps']"
      ]
     },
     "execution_count": 8,
     "metadata": {},
     "output_type": "execute_result"
    }
   ],
   "source": [
    "list(df.columns)"
   ]
  },
  {
   "cell_type": "markdown",
   "metadata": {},
   "source": [
    "# Title case "
   ]
  },
  {
   "cell_type": "code",
   "execution_count": 17,
   "metadata": {},
   "outputs": [
    {
     "name": "stderr",
     "output_type": "stream",
     "text": [
      "/Users/collindching/anaconda3/envs/metis/lib/python3.6/site-packages/pandas/core/series.py:853: RuntimeWarning: divide by zero encountered in log\n",
      "  result = getattr(ufunc, method)(*inputs, **kwargs)\n"
     ]
    },
    {
     "data": {
      "image/png": "[encoded data removed]",
      "text/plain": [
       "<Figure size 432x288 with 1 Axes>"
      ]
     },
     "metadata": {
      "needs_background": "light"
     },
     "output_type": "display_data"
    }
   ],
   "source": [
    "sns.boxplot(df['title_is_title_case'], np.log(df['n_claps']))\n",
    "plt.ylabel('Log(claps)')\n",
    "plt.xlabel('Title is title case')\n",
    "plt.savefig('img/title_case_boxplot.png')"
   ]
  },
  {
   "cell_type": "markdown",
   "metadata": {},
   "source": [
    "# How does read time affect claps?"
   ]
  },
  {
   "cell_type": "code",
   "execution_count": 47,
   "metadata": {},
   "outputs": [
    {
     "data": {
      "text/plain": [
       "Text(0.5, 0, 'Read time (minutes)')"
      ]
     },
     "execution_count": 47,
     "metadata": {},
     "output_type": "execute_result"
    },
    {
     "data": {
      "image/png": "[encoded data removed]",
      "text/plain": [
       "<Figure size 720x288 with 1 Axes>"
      ]
     },
     "metadata": {
      "needs_background": "light"
     },
     "output_type": "display_data"
    }
   ],
   "source": [
    "plt.figure(figsize=(10,4))\n",
    "sns.boxplot(df['read_time'], np.log(df['n_claps']+1), palette=sns.light_palette(\"#1f77b4\",30))\n",
    "plt.xlim(-1, 30.5);\n",
    "plt.xticks(list(range(31)), list(range(31)));\n",
    "plt.ylabel('Log(claps)')\n",
    "plt.xlabel('Read time (minutes)')\n",
    "plt.savefig('img/read_time_boxplot.png')"
   ]
  },
  {
   "cell_type": "markdown",
   "metadata": {},
   "source": [
    "Articles that have a read time between 8 and 25 minutes generally capture attention fairly well, then starts dipping for longer articles. People don't seem to be turned off by longer articles, as long as the quality is there."
   ]
  },
  {
   "cell_type": "markdown",
   "metadata": {},
   "source": [
    "# Effect of publication"
   ]
  },
  {
   "cell_type": "code",
   "execution_count": 55,
   "metadata": {},
   "outputs": [
    {
     "data": {
      "image/png": "[encoded data removed]",
      "text/plain": [
       "<Figure size 576x360 with 1 Axes>"
      ]
     },
     "metadata": {
      "needs_background": "light"
     },
     "output_type": "display_data"
    }
   ],
   "source": [
    "plt.figure(figsize=(8,5))\n",
    "sns.barplot(df['publication_None'],df['n_claps'])\n",
    "plt.xlabel('No publication?')\n",
    "plt.ylabel('Claps')\n",
    "\n",
    "plt.savefig('img/no_pub_barplot.png')"
   ]
  },
  {
   "cell_type": "code",
   "execution_count": 57,
   "metadata": {},
   "outputs": [
    {
     "data": {
      "image/png": "[encoded data removed]",
      "text/plain": [
       "<Figure size 576x360 with 1 Axes>"
      ]
     },
     "metadata": {
      "needs_background": "light"
     },
     "output_type": "display_data"
    }
   ],
   "source": [
    "plt.figure(figsize=(8,5))\n",
    "\n",
    "sns.barplot(df['publication_Towards_Data_Science'],df['n_claps'])\n",
    "plt.xlabel('Published with Towards Data Science?')\n",
    "plt.ylabel('Claps')\n",
    "\n",
    "plt.savefig('img/pub_TDS_barplot.png')"
   ]
  },
  {
   "cell_type": "markdown",
   "metadata": {},
   "source": [
    "Get the top publications."
   ]
  },
  {
   "cell_type": "code",
   "execution_count": 63,
   "metadata": {},
   "outputs": [
    {
     "data": {
      "text/plain": [
       "[('None', 6714),\n",
       " ('Towards Data Science', 1718),\n",
       " ('Data Driven Investor', 271),\n",
       " ('HackerNoon.com', 114),\n",
       " ('Analytics Vidhya', 51)]"
      ]
     },
     "execution_count": 63,
     "metadata": {},
     "output_type": "execute_result"
    }
   ],
   "source": [
    "Counter(df['publication']).most_common(5)"
   ]
  },
  {
   "cell_type": "code",
   "execution_count": 67,
   "metadata": {},
   "outputs": [],
   "source": [
    "top_pubs = [x[0] for x in Counter(df['publication']).most_common(5)]"
   ]
  },
  {
   "cell_type": "code",
   "execution_count": 69,
   "metadata": {},
   "outputs": [
    {
     "data": {
      "text/plain": [
       "13126"
      ]
     },
     "execution_count": 69,
     "metadata": {},
     "output_type": "execute_result"
    }
   ],
   "source": [
    "len(df)"
   ]
  },
  {
   "cell_type": "code",
   "execution_count": 84,
   "metadata": {},
   "outputs": [
    {
     "data": {
      "image/png": "[encoded data removed]",
      "text/plain": [
       "<Figure size 576x360 with 1 Axes>"
      ]
     },
     "metadata": {
      "needs_background": "light"
     },
     "output_type": "display_data"
    }
   ],
   "source": [
    "plt.figure(figsize=(8,5))\n",
    "\n",
    "sns.barplot(y='publication',x='n_claps', data=df[df['publication'].isin(top_pubs)], \n",
    "            palette=sns.light_palette(\"#1f77b4\",5),\n",
    "            order=['None','Data Driven Investor','HackerNoon.com','Analytics Vidhya','Towards Data Science'])\n",
    "\n",
    "\n",
    "plt.ylabel('Publication')\n",
    "plt.xlabel('Claps')\n",
    "\n",
    "plt.savefig('img/pub_comparison_barpot.png', bbox_inches='tight')"
   ]
  },
  {
   "cell_type": "code",
   "execution_count": 68,
   "metadata": {},
   "outputs": [
    {
     "data": {
      "text/plain": [
       "['None',\n",
       " 'Towards Data Science',\n",
       " 'Data Driven Investor',\n",
       " 'HackerNoon.com',\n",
       " 'Analytics Vidhya']"
      ]
     },
     "execution_count": 68,
     "metadata": {},
     "output_type": "execute_result"
    }
   ],
   "source": [
    "top_pubs"
   ]
  },
  {
   "cell_type": "markdown",
   "metadata": {},
   "source": [
    "# Optimal number of pictures?"
   ]
  },
  {
   "cell_type": "markdown",
   "metadata": {},
   "source": [
    "Change the color of according to the mean value. This will help visualize change."
   ]
  },
  {
   "cell_type": "code",
   "execution_count": 94,
   "metadata": {},
   "outputs": [
    {
     "data": {
      "image/png": "[encoded data removed]",
      "text/plain": [
       "<Figure size 576x288 with 1 Axes>"
      ]
     },
     "metadata": {
      "needs_background": "light"
     },
     "output_type": "display_data"
    }
   ],
   "source": [
    "plt.figure(figsize=(8,4))\n",
    "sns.boxplot(df['n_pics'], np.log(df['n_claps']+1), palette=sns.light_palette(\"#1f77b4\",21));\n",
    "plt.xlim(-1,20.5);\n",
    "plt.xlabel('Number of pictures');\n",
    "plt.xticks(list(range(21)), list(range(21)));\n",
    "plt.ylabel('Log(claps)');\n",
    "\n",
    "plt.savefig('img/pictures_boxplot.png')"
   ]
  },
  {
   "cell_type": "markdown",
   "metadata": {},
   "source": [
    "Incorporating 6 claps seems to make sense for these articles. "
   ]
  },
  {
   "cell_type": "markdown",
   "metadata": {},
   "source": [
    "# Bolding and italics "
   ]
  },
  {
   "cell_type": "code",
   "execution_count": null,
   "metadata": {},
   "outputs": [],
   "source": []
  },
  {
   "cell_type": "markdown",
   "metadata": {},
   "source": [
    "# Digits in title"
   ]
  },
  {
   "cell_type": "code",
   "execution_count": 51,
   "metadata": {},
   "outputs": [
    {
     "data": {
      "text/plain": [
       "<matplotlib.axes._subplots.AxesSubplot at 0x1250302b0>"
      ]
     },
     "execution_count": 51,
     "metadata": {},
     "output_type": "execute_result"
    },
    {
     "data": {
      "image/png": "[encoded data removed]",
      "text/plain": [
       "<Figure size 432x288 with 1 Axes>"
      ]
     },
     "metadata": {
      "needs_background": "light"
     },
     "output_type": "display_data"
    }
   ],
   "source": [
    "sns.boxplot(df['n_digits_title'], np.log(df['n_claps']+1))"
   ]
  },
  {
   "cell_type": "code",
   "execution_count": 2,
   "metadata": {},
   "outputs": [],
   "source": [
    "import seaborn as sns"
   ]
  },
  {
   "cell_type": "code",
   "execution_count": null,
   "metadata": {},
   "outputs": [],
   "source": []
  },
  {
   "cell_type": "code",
   "execution_count": 12,
   "metadata": {},
   "outputs": [
    {
     "data": {
      "image/png": "[encoded data removed]",
      "text/plain": [
       "<Figure size 576x360 with 1 Axes>"
      ]
     },
     "metadata": {
      "needs_background": "light"
     },
     "output_type": "display_data"
    }
   ],
   "source": [
    "plt.figure(figsize=(8,5))\n",
    "sns.boxplot(df['n_tags'], np.log(df['n_claps']+1))\n",
    "plt.xlim(-.5,4.5)\n",
    "plt.ylabel('Log(claps)')\n",
    "plt.xlabel('Number of tags')\n",
    "plt.savefig('img/tags_boxplot.png')"
   ]
  },
  {
   "cell_type": "code",
   "execution_count": null,
   "metadata": {},
   "outputs": [],
   "source": []
  }
 ],
 "metadata": {
  "kernelspec": {
   "display_name": "Python [conda env:metis] *",
   "language": "python",
   "name": "conda-env-metis-py"
  },
  "language_info": {
   "codemirror_mode": {
    "name": "ipython",
    "version": 3
   },
   "file_extension": ".py",
   "mimetype": "text/x-python",
   "name": "python",
   "nbconvert_exporter": "python",
   "pygments_lexer": "ipython3",
   "version": "3.6.9"
  }
 },
 "nbformat": 4,
 "nbformat_minor": 2
}
