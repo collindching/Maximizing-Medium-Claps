{
 "cells": [
  {
   "cell_type": "markdown",
   "metadata": {},
   "source": [
    "# Preloading"
   ]
  },
  {
   "cell_type": "code",
   "execution_count": 1,
   "metadata": {},
   "outputs": [],
   "source": [
    "import patsy\n",
    "import matplotlib\n",
    "import pandas as pd\n",
    "import numpy as np\n",
    "import seaborn as sns\n",
    "import matplotlib.pyplot as plt\n",
    "import statsmodels.api as sm\n",
    "import statsmodels.formula.api as smf\n",
    "\n",
    "from sklearn.model_selection import train_test_split\n",
    "from sklearn.preprocessing import StandardScaler\n",
    "from sklearn.metrics import mean_absolute_error, mean_squared_error\n",
    "from ast import literal_eval\n",
    "from dateutil.parser import parse\n",
    "from sklearn.linear_model import Lasso, LassoCV, Ridge, RidgeCV, ElasticNet, ElasticNetCV\n",
    "from sklearn.model_selection import cross_val_predict\n",
    "from sklearn.ensemble import RandomForestRegressor\n",
    "from sklearn.model_selection import GridSearchCV\n",
    "\n",
    "pd.set_option('display.max_columns', None)\n",
    "pd.set_option('display.max_rows', 200)\n",
    "\n",
    "def log(series):\n",
    "    return np.log(series+1)"
   ]
  },
  {
   "cell_type": "markdown",
   "metadata": {},
   "source": [
    "# Load data "
   ]
  },
  {
   "cell_type": "code",
   "execution_count": 2,
   "metadata": {},
   "outputs": [],
   "source": [
    "X_train = pd.read_csv('X_train.csv')\n",
    "y_train = pd.read_csv('y_train.csv')\n",
    "X_train, X_val, y_train, y_val = train_test_split(X_train, y_train, test_size=.25, random_state=4) \n",
    "\n",
    "X_test = pd.read_csv('X_test.csv')\n",
    "y_test = pd.read_csv('y_test.csv')"
   ]
  },
  {
   "cell_type": "code",
   "execution_count": 3,
   "metadata": {},
   "outputs": [
    {
     "name": "stdout",
     "output_type": "stream",
     "text": [
      "(7873, 129) (2625, 129) (2628, 129)\n"
     ]
    }
   ],
   "source": [
    "print(X_train.shape, X_val.shape, X_test.shape)"
   ]
  },
  {
   "cell_type": "code",
   "execution_count": 4,
   "metadata": {},
   "outputs": [
    {
     "data": {
      "image/png": "[encoded data removed]",
      "text/plain": [
       "<Figure size 1008x360 with 1 Axes>"
      ]
     },
     "metadata": {
      "needs_background": "light"
     },
     "output_type": "display_data"
    }
   ],
   "source": [
    "plt.figure(figsize=(14,5))\n",
    "sns.distplot(y_train);"
   ]
  },
  {
   "cell_type": "code",
   "execution_count": 5,
   "metadata": {},
   "outputs": [],
   "source": [
    "scaler = StandardScaler()\n",
    "model_features = set(X_train.select_dtypes(np.number).columns) - set(['year','month','day', 'day_of_week'])\n",
    "X_train_scaled = pd.DataFrame(scaler.fit_transform(X_train[model_features]), columns=model_features)\n",
    "X_val_scaled = pd.DataFrame(scaler.fit_transform(X_val[model_features]), columns=model_features)\n",
    "X_test_scaled = pd.DataFrame(scaler.transform(X_test[model_features]), columns=model_features)"
   ]
  },
  {
   "cell_type": "markdown",
   "metadata": {},
   "source": [
    "# Baseline models"
   ]
  },
  {
   "cell_type": "markdown",
   "metadata": {},
   "source": [
    "## (1) Naive model \n",
    "\n",
    "Predict using just the mean"
   ]
  },
  {
   "cell_type": "code",
   "execution_count": 6,
   "metadata": {},
   "outputs": [
    {
     "data": {
      "text/plain": [
       "114.68350918449433"
      ]
     },
     "execution_count": 6,
     "metadata": {},
     "output_type": "execute_result"
    }
   ],
   "source": [
    "naive_pred = pd.Series(np.mean(y_train)).repeat(len(y_val))\n",
    "mean_absolute_error(y_val, naive_pred)"
   ]
  },
  {
   "cell_type": "markdown",
   "metadata": {},
   "source": [
    "Has a mean absolute error of 113 just from predicting with a naive guess."
   ]
  },
  {
   "cell_type": "markdown",
   "metadata": {},
   "source": [
    "## (2) Lasso regression"
   ]
  },
  {
   "cell_type": "markdown",
   "metadata": {},
   "source": [
    "Choose penalty coefficient"
   ]
  },
  {
   "cell_type": "code",
   "execution_count": 8,
   "metadata": {},
   "outputs": [
    {
     "name": "stderr",
     "output_type": "stream",
     "text": [
      "/Users/collindching/anaconda3/envs/metis/lib/python3.6/site-packages/sklearn/linear_model/coordinate_descent.py:1100: DataConversionWarning: A column-vector y was passed when a 1d array was expected. Please change the shape of y to (n_samples, ), for example using ravel().\n",
      "  y = column_or_1d(y, warn=True)\n"
     ]
    },
    {
     "data": {
      "text/plain": [
       "0.009727203192450537"
      ]
     },
     "execution_count": 8,
     "metadata": {},
     "output_type": "execute_result"
    }
   ],
   "source": [
    "lasso_alphas = 10**np.linspace(-5,0,1000)\n",
    "lasso_cv = LassoCV(alphas = lasso_alphas, cv=5)\n",
    "lasso_cv.fit(X_train_scaled, log(y_train))\n",
    "lasso_cv.alpha_"
   ]
  },
  {
   "cell_type": "markdown",
   "metadata": {},
   "source": [
    "Make predictions"
   ]
  },
  {
   "cell_type": "code",
   "execution_count": 9,
   "metadata": {},
   "outputs": [
    {
     "data": {
      "text/plain": [
       "79.34507269784531"
      ]
     },
     "execution_count": 9,
     "metadata": {},
     "output_type": "execute_result"
    }
   ],
   "source": [
    "np.random.seed(4)\n",
    "lasso = Lasso(alpha=lasso_cv.alpha_)\n",
    "lasso.fit(X_train_scaled, log(y_train))\n",
    "y_val_pred_lasso = np.exp(lasso.predict(X_val_scaled))\n",
    "lasso_mae = mean_absolute_error(y_val, y_val_pred_lasso)\n",
    "lasso_mae"
   ]
  },
  {
   "cell_type": "markdown",
   "metadata": {},
   "source": [
    "## (3) Ridge  regression"
   ]
  },
  {
   "cell_type": "markdown",
   "metadata": {},
   "source": [
    "Choose penalty coefficient"
   ]
  },
  {
   "cell_type": "code",
   "execution_count": 10,
   "metadata": {},
   "outputs": [
    {
     "data": {
      "text/plain": [
       "517.092024289676"
      ]
     },
     "execution_count": 10,
     "metadata": {},
     "output_type": "execute_result"
    }
   ],
   "source": [
    "np.random.seed(4)\n",
    "ridge_alphas = 10**np.linspace(0,4,200)\n",
    "ridge_cv = RidgeCV(ridge_alphas, cv=5)\n",
    "ridge_cv.fit(X_train_scaled, log(y_train))\n",
    "ridge_cv.alpha_"
   ]
  },
  {
   "cell_type": "code",
   "execution_count": 11,
   "metadata": {},
   "outputs": [
    {
     "data": {
      "text/plain": [
       "79.54458881452119"
      ]
     },
     "execution_count": 11,
     "metadata": {},
     "output_type": "execute_result"
    }
   ],
   "source": [
    "ridge = Ridge(alpha=ridge_cv.alpha_)\n",
    "ridge.fit(X_train_scaled, log(y_train))\n",
    "y_val_pred_ridge = np.exp(ridge.predict(X_val_scaled))\n",
    "ridge_mae = mean_absolute_error(y_val, y_val_pred_ridge)\n",
    "ridge_mae"
   ]
  },
  {
   "cell_type": "markdown",
   "metadata": {},
   "source": [
    "Check feature importances"
   ]
  },
  {
   "cell_type": "markdown",
   "metadata": {},
   "source": [
    "## (4) ElasticNet"
   ]
  },
  {
   "cell_type": "markdown",
   "metadata": {},
   "source": [
    "Choose penalty coefficient"
   ]
  },
  {
   "cell_type": "code",
   "execution_count": 12,
   "metadata": {},
   "outputs": [],
   "source": [
    "np.random.seed(4)\n",
    "en_alpha = 10**np.linspace(-5,0,100)\n",
    "en_lambda = np.linspace(0 + 1/200,1,100)\n",
    "en_cv = ElasticNetCV(l1_ratio = en_lambda, n_alphas = 100, cv=5)\n",
    "en_cv.fit(X_train_scaled, log(y_train).values.ravel());"
   ]
  },
  {
   "cell_type": "code",
   "execution_count": 13,
   "metadata": {},
   "outputs": [
    {
     "name": "stdout",
     "output_type": "stream",
     "text": [
      "0.04349603712970927\n"
     ]
    }
   ],
   "source": [
    "print(en_cv.alpha_)"
   ]
  },
  {
   "cell_type": "code",
   "execution_count": 14,
   "metadata": {},
   "outputs": [
    {
     "name": "stdout",
     "output_type": "stream",
     "text": [
      "0.16580808080808082\n"
     ]
    }
   ],
   "source": [
    "print(en_cv.l1_ratio_)"
   ]
  },
  {
   "cell_type": "code",
   "execution_count": 21,
   "metadata": {},
   "outputs": [
    {
     "data": {
      "text/plain": [
       "79.42690374495434"
      ]
     },
     "execution_count": 21,
     "metadata": {},
     "output_type": "execute_result"
    }
   ],
   "source": [
    "en = ElasticNet(en_cv.alpha_, en_cv.l1_ratio_)\n",
    "en.fit(X_train_scaled, log(y_train))\n",
    "y_val_pred_en = np.exp(en.predict(X_val_scaled))\n",
    "en_mae = mean_absolute_error(y_val, y_val_pred_en)\n",
    "en_mae"
   ]
  },
  {
   "cell_type": "markdown",
   "metadata": {},
   "source": [
    "Check feature importances"
   ]
  },
  {
   "cell_type": "code",
   "execution_count": 22,
   "metadata": {},
   "outputs": [
    {
     "data": {
      "image/png": "[encoded data removed]",
      "text/plain": [
       "<Figure size 576x360 with 1 Axes>"
      ]
     },
     "metadata": {
      "needs_background": "light"
     },
     "output_type": "display_data"
    }
   ],
   "source": [
    "plt.figure(figsize=(8,5))\n",
    "en_residuals = y_val.values.flatten() - y_val_pred_en\n",
    "sns.scatterplot(y_val_pred_en, en_residuals)\n",
    "plt.xlim(0,1000)\n",
    "plt.ylim(-1000,1000)\n",
    "plt.ylabel('Residuals');\n",
    "plt.xlabel('Predicted');\n",
    "plt.savefig('en_residuals.png')"
   ]
  },
  {
   "cell_type": "markdown",
   "metadata": {},
   "source": [
    "This plot suggests that claps do not have a linear relationship with the beta coefficients of my model. The most glaring clue is that the slope of the residuals is negative, a violation of the OLS assumption of errors having zero conditional mean. \n",
    "\n",
    "At this point, there are a few ways to achieve better residuals: either improve the quality of data inputs or try more apt models. Some options to consider:\n",
    "\n",
    "- **Transform the independent variables:** I used a Yeo-Johnson transformation to improve normality, but this did not improve the linearity between my coefficients and the outcome. \n",
    "- **Use a tree regression:** I modeled a random forest on the data, which makes no assumptions about the data distribution. Unfortunately, this performed slightly worse than my elastic net models. But at the very least, I'm not violating any assumptions.\n",
    "- **Add better features (polynomial, NLP):** I suspect that extracting more meaningful features, like through topic modeling, would have the most significant effect on decreasing bias. Unfortunately, polynomial and NLP feature engineering are beyond the scope of this project for me.\n",
    "\n"
   ]
  },
  {
   "cell_type": "markdown",
   "metadata": {},
   "source": [
    "## (5) Random Forest "
   ]
  },
  {
   "cell_type": "markdown",
   "metadata": {},
   "source": [
    "Use random forest to circumvent linearity assumption. Lose interpretation of beta coefficients, but model is valid. "
   ]
  },
  {
   "cell_type": "markdown",
   "metadata": {},
   "source": [
    "#### Tune"
   ]
  },
  {
   "cell_type": "code",
   "execution_count": 23,
   "metadata": {},
   "outputs": [
    {
     "name": "stdout",
     "output_type": "stream",
     "text": [
      "Fitting 5 folds for each of 144 candidates, totalling 720 fits\n"
     ]
    },
    {
     "name": "stderr",
     "output_type": "stream",
     "text": [
      "[Parallel(n_jobs=4)]: Using backend LokyBackend with 4 concurrent workers.\n",
      "[Parallel(n_jobs=4)]: Done  42 tasks      | elapsed:   19.3s\n",
      "[Parallel(n_jobs=4)]: Done 192 tasks      | elapsed:  1.7min\n",
      "[Parallel(n_jobs=4)]: Done 442 tasks      | elapsed:  3.9min\n",
      "[Parallel(n_jobs=4)]: Done 720 out of 720 | elapsed:  7.0min finished\n"
     ]
    },
    {
     "data": {
      "text/plain": [
       "GridSearchCV(cv=5, error_score='raise-deprecating',\n",
       "             estimator=RandomForestRegressor(bootstrap=True, criterion='mse',\n",
       "                                             max_depth=None,\n",
       "                                             max_features='auto',\n",
       "                                             max_leaf_nodes=None,\n",
       "                                             min_impurity_decrease=0.0,\n",
       "                                             min_impurity_split=None,\n",
       "                                             min_samples_leaf=1,\n",
       "                                             min_samples_split=2,\n",
       "                                             min_weight_fraction_leaf=0.0,\n",
       "                                             n_estimators=100, n_jobs=None,\n",
       "                                             oob_score=False, random_state=None,\n",
       "                                             verbose=0, warm_start=False),\n",
       "             iid='warn', n_jobs=4,\n",
       "             param_grid={'max_depth': [10, 12, 14, 16],\n",
       "                         'max_features': [20, 30, 40, 50],\n",
       "                         'min_samples_leaf': [2, 5, 10],\n",
       "                         'min_samples_split': [2, 5, 10]},\n",
       "             pre_dispatch='2*n_jobs', refit=True, return_train_score=False,\n",
       "             scoring='neg_mean_absolute_error', verbose=1)"
      ]
     },
     "execution_count": 23,
     "metadata": {},
     "output_type": "execute_result"
    }
   ],
   "source": [
    "params = {\n",
    "    'max_depth': [10, 12, 14, 16],\n",
    "    'max_features': [20, 30, 40, 50],\n",
    "    'min_samples_leaf' : [2, 5, 10],\n",
    "    'min_samples_split': [2, 5, 10]\n",
    "}\n",
    "\n",
    "gridsearch = GridSearchCV(\n",
    "    RandomForestRegressor(n_estimators=100),\n",
    "    cv=5,\n",
    "    param_grid=params,\n",
    "    n_jobs=4,\n",
    "    verbose=1,\n",
    "    scoring='neg_mean_absolute_error'\n",
    ")\n",
    "\n",
    "gridsearch.fit(X_train[model_features],y_train.values.ravel())"
   ]
  },
  {
   "cell_type": "code",
   "execution_count": 24,
   "metadata": {},
   "outputs": [],
   "source": [
    "rf = gridsearch.best_estimator_\n",
    "#rf.set_params(**{'n_estimators':200})"
   ]
  },
  {
   "cell_type": "code",
   "execution_count": 28,
   "metadata": {},
   "outputs": [
    {
     "data": {
      "text/plain": [
       "RandomForestRegressor(bootstrap=True, criterion='mse', max_depth=12,\n",
       "                      max_features=40, max_leaf_nodes=None,\n",
       "                      min_impurity_decrease=0.0, min_impurity_split=None,\n",
       "                      min_samples_leaf=2, min_samples_split=2,\n",
       "                      min_weight_fraction_leaf=0.0, n_estimators=100,\n",
       "                      n_jobs=None, oob_score=False, random_state=None,\n",
       "                      verbose=0, warm_start=False)"
      ]
     },
     "execution_count": 28,
     "metadata": {},
     "output_type": "execute_result"
    }
   ],
   "source": [
    "rf"
   ]
  },
  {
   "cell_type": "markdown",
   "metadata": {},
   "source": [
    "### Predict"
   ]
  },
  {
   "cell_type": "markdown",
   "metadata": {},
   "source": [
    "#### Validation"
   ]
  },
  {
   "cell_type": "code",
   "execution_count": 35,
   "metadata": {},
   "outputs": [
    {
     "name": "stdout",
     "output_type": "stream",
     "text": [
      "Validation MAE is 85.47.\n",
      "Test MAE is 82.5.\n"
     ]
    }
   ],
   "source": [
    "# validation predictions\n",
    "rf.fit(X_train[model_features], y_train.values.ravel())\n",
    "y_val_pred_rf = rf.predict(X_val[model_features])\n",
    "final_val_mae = mean_absolute_error(y_val, y_val_pred_rf)\n",
    "print(f\"Validation MAE is {round(final_val_mae,2)}.\")\n",
    "\n",
    "# test predictions\n",
    "y_test_pred_rf = rf.predict(X_test[model_features])\n",
    "final_test_mae = mean_absolute_error(y_test, y_test_pred_rf)\n",
    "print(f\"Test MAE is {round(final_test_mae,2)}.\")"
   ]
  },
  {
   "cell_type": "markdown",
   "metadata": {},
   "source": [
    "#### Save ([pickle](https://scikit-learn.org/stable/modules/model_persistence.html))"
   ]
  },
  {
   "cell_type": "code",
   "execution_count": 26,
   "metadata": {},
   "outputs": [
    {
     "data": {
      "text/plain": [
       "['rf_final.pkl']"
      ]
     },
     "execution_count": 26,
     "metadata": {},
     "output_type": "execute_result"
    }
   ],
   "source": [
    "from joblib import dump, load\n",
    "dump(rf, 'rf_final.pkl') "
   ]
  }
 ],
 "metadata": {
  "kernelspec": {
   "display_name": "Python 3",
   "language": "python",
   "name": "python3"
  },
  "language_info": {
   "codemirror_mode": {
    "name": "ipython",
    "version": 3
   },
   "file_extension": ".py",
   "mimetype": "text/x-python",
   "name": "python",
   "nbconvert_exporter": "python",
   "pygments_lexer": "ipython3",
   "version": "3.6.9"
  }
 },
 "nbformat": 4,
 "nbformat_minor": 2
}
